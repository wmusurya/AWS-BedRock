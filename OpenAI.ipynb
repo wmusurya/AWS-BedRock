{
  "nbformat": 4,
  "nbformat_minor": 0,
  "metadata": {
    "colab": {
      "provenance": [],
      "authorship_tag": "ABX9TyPbAXTchTOk9x9dteZsQW1y",
      "include_colab_link": true
    },
    "kernelspec": {
      "name": "python3",
      "display_name": "Python 3"
    },
    "language_info": {
      "name": "python"
    }
  },
  "cells": [
    {
      "cell_type": "markdown",
      "metadata": {
        "id": "view-in-github",
        "colab_type": "text"
      },
      "source": [
        "<a href=\"https://colab.research.google.com/github/wmusurya/AWS-BedRock/blob/main/OpenAI.ipynb\" target=\"_parent\"><img src=\"https://colab.research.google.com/assets/colab-badge.svg\" alt=\"Open In Colab\"/></a>"
      ]
    },
    {
      "cell_type": "code",
      "source": [
        "!pip install openai==0.28"
      ],
      "metadata": {
        "colab": {
          "base_uri": "https://localhost:8080/"
        },
        "id": "ddcoMsZ9Y-w3",
        "outputId": "b4f11442-a658-4450-97e2-0e496900da92"
      },
      "execution_count": null,
      "outputs": [
        {
          "output_type": "stream",
          "name": "stdout",
          "text": [
            "Collecting openai==0.28\n",
            "  Downloading openai-0.28.0-py3-none-any.whl (76 kB)\n",
            "\u001b[?25l     \u001b[90m━━━━━━━━━━━━━━━━━━━━━━━━━━━━━━━━━━━━━━━━\u001b[0m \u001b[32m0.0/76.5 kB\u001b[0m \u001b[31m?\u001b[0m eta \u001b[36m-:--:--\u001b[0m\r\u001b[2K     \u001b[91m━━━━━━━━━━━━━━━━━━━━━━━━━━━━━━━━\u001b[0m\u001b[90m╺\u001b[0m\u001b[90m━━━━━━━\u001b[0m \u001b[32m61.4/76.5 kB\u001b[0m \u001b[31m1.7 MB/s\u001b[0m eta \u001b[36m0:00:01\u001b[0m\r\u001b[2K     \u001b[90m━━━━━━━━━━━━━━━━━━━━━━━━━━━━━━━━━━━━━━━━\u001b[0m \u001b[32m76.5/76.5 kB\u001b[0m \u001b[31m1.5 MB/s\u001b[0m eta \u001b[36m0:00:00\u001b[0m\n",
            "\u001b[?25hRequirement already satisfied: requests>=2.20 in /usr/local/lib/python3.10/dist-packages (from openai==0.28) (2.31.0)\n",
            "Requirement already satisfied: tqdm in /usr/local/lib/python3.10/dist-packages (from openai==0.28) (4.66.2)\n",
            "Requirement already satisfied: aiohttp in /usr/local/lib/python3.10/dist-packages (from openai==0.28) (3.9.3)\n",
            "Requirement already satisfied: charset-normalizer<4,>=2 in /usr/local/lib/python3.10/dist-packages (from requests>=2.20->openai==0.28) (3.3.2)\n",
            "Requirement already satisfied: idna<4,>=2.5 in /usr/local/lib/python3.10/dist-packages (from requests>=2.20->openai==0.28) (3.6)\n",
            "Requirement already satisfied: urllib3<3,>=1.21.1 in /usr/local/lib/python3.10/dist-packages (from requests>=2.20->openai==0.28) (2.0.7)\n",
            "Requirement already satisfied: certifi>=2017.4.17 in /usr/local/lib/python3.10/dist-packages (from requests>=2.20->openai==0.28) (2024.2.2)\n",
            "Requirement already satisfied: aiosignal>=1.1.2 in /usr/local/lib/python3.10/dist-packages (from aiohttp->openai==0.28) (1.3.1)\n",
            "Requirement already satisfied: attrs>=17.3.0 in /usr/local/lib/python3.10/dist-packages (from aiohttp->openai==0.28) (23.2.0)\n",
            "Requirement already satisfied: frozenlist>=1.1.1 in /usr/local/lib/python3.10/dist-packages (from aiohttp->openai==0.28) (1.4.1)\n",
            "Requirement already satisfied: multidict<7.0,>=4.5 in /usr/local/lib/python3.10/dist-packages (from aiohttp->openai==0.28) (6.0.5)\n",
            "Requirement already satisfied: yarl<2.0,>=1.0 in /usr/local/lib/python3.10/dist-packages (from aiohttp->openai==0.28) (1.9.4)\n",
            "Requirement already satisfied: async-timeout<5.0,>=4.0 in /usr/local/lib/python3.10/dist-packages (from aiohttp->openai==0.28) (4.0.3)\n",
            "Installing collected packages: openai\n",
            "Successfully installed openai-0.28.0\n"
          ]
        }
      ]
    },
    {
      "cell_type": "code",
      "source": [
        "!pip install python-dotenv"
      ],
      "metadata": {
        "colab": {
          "base_uri": "https://localhost:8080/"
        },
        "id": "ga12E42jZBrX",
        "outputId": "7f0da0b9-1ca0-4563-860b-cbadeef980cf"
      },
      "execution_count": null,
      "outputs": [
        {
          "output_type": "stream",
          "name": "stdout",
          "text": [
            "Collecting python-dotenv\n",
            "  Downloading python_dotenv-1.0.1-py3-none-any.whl (19 kB)\n",
            "Installing collected packages: python-dotenv\n",
            "Successfully installed python-dotenv-1.0.1\n"
          ]
        }
      ]
    },
    {
      "cell_type": "code",
      "source": [
        "import os\n",
        "from dotenv import load_dotenv\n",
        "load_dotenv('/content/config.env.txt')\n"
      ],
      "metadata": {
        "colab": {
          "base_uri": "https://localhost:8080/"
        },
        "id": "hxinSQAJZahF",
        "outputId": "434809c3-f9fc-447f-b54f-229bc4075199"
      },
      "execution_count": null,
      "outputs": [
        {
          "output_type": "execute_result",
          "data": {
            "text/plain": [
              "True"
            ]
          },
          "metadata": {},
          "execution_count": 4
        }
      ]
    },
    {
      "cell_type": "code",
      "source": [
        "import openai\n",
        "openai.api_key=os.getenv('OPENAI_API_KEY')"
      ],
      "metadata": {
        "id": "i84xwQvZZh0L"
      },
      "execution_count": null,
      "outputs": []
    },
    {
      "cell_type": "code",
      "source": [
        "results=openai.Completion.create(\n",
        "    model='gpt-3.5-turbo-instruct',\n",
        "    prompt= 'who is novak djokovich?'\n",
        ")\n",
        "print(results.choices[0].text)"
      ],
      "metadata": {
        "colab": {
          "base_uri": "https://localhost:8080/"
        },
        "id": "qB_d4xy5Z6xt",
        "outputId": "9e92f248-1212-4aef-c49e-710fb2666dbf"
      },
      "execution_count": null,
      "outputs": [
        {
          "output_type": "stream",
          "name": "stdout",
          "text": [
            "\n",
            "\n",
            "Novak Djokovic is a Serbian professional tennis player. He is currently\n"
          ]
        }
      ]
    },
    {
      "cell_type": "code",
      "source": [
        "results"
      ],
      "metadata": {
        "colab": {
          "base_uri": "https://localhost:8080/"
        },
        "id": "jj5mmHdNgCsR",
        "outputId": "5c0e5d33-d7ee-4722-a5f6-9c14b674028b"
      },
      "execution_count": null,
      "outputs": [
        {
          "output_type": "execute_result",
          "data": {
            "text/plain": [
              "<OpenAIObject text_completion id=cmpl-8xyhUyzEJ2KTW9S9GyPe1vQ2y8oEJ at 0x792f2441cea0> JSON: {\n",
              "  \"id\": \"cmpl-8xyhUyzEJ2KTW9S9GyPe1vQ2y8oEJ\",\n",
              "  \"object\": \"text_completion\",\n",
              "  \"created\": 1709305376,\n",
              "  \"model\": \"gpt-3.5-turbo-instruct\",\n",
              "  \"choices\": [\n",
              "    {\n",
              "      \"text\": \"\\n\\nNovak Djokovic is a Serbian professional tennis player. He is currently\",\n",
              "      \"index\": 0,\n",
              "      \"logprobs\": null,\n",
              "      \"finish_reason\": \"length\"\n",
              "    }\n",
              "  ],\n",
              "  \"usage\": {\n",
              "    \"prompt_tokens\": 8,\n",
              "    \"completion_tokens\": 16,\n",
              "    \"total_tokens\": 24\n",
              "  }\n",
              "}"
            ]
          },
          "metadata": {},
          "execution_count": 7
        }
      ]
    },
    {
      "cell_type": "code",
      "source": [
        "type(results)"
      ],
      "metadata": {
        "colab": {
          "base_uri": "https://localhost:8080/",
          "height": 203
        },
        "id": "946OMi59gQzO",
        "outputId": "fe432976-b65b-423d-d498-4177396c31f4"
      },
      "execution_count": null,
      "outputs": [
        {
          "output_type": "execute_result",
          "data": {
            "text/plain": [
              "openai.openai_object.OpenAIObject"
            ],
            "text/html": [
              "<div style=\"max-width:800px; border: 1px solid var(--colab-border-color);\"><style>\n",
              "      pre.function-repr-contents {\n",
              "        overflow-x: auto;\n",
              "        padding: 8px 12px;\n",
              "        max-height: 500px;\n",
              "      }\n",
              "\n",
              "      pre.function-repr-contents.function-repr-contents-collapsed {\n",
              "        cursor: pointer;\n",
              "        max-height: 100px;\n",
              "      }\n",
              "    </style>\n",
              "    <pre style=\"white-space: initial; background:\n",
              "         var(--colab-secondary-surface-color); padding: 8px 12px;\n",
              "         border-bottom: 1px solid var(--colab-border-color);\"><b>openai.openai_object.OpenAIObject</b><br/>def __init__(id=None, api_key=None, api_version=None, api_type=None, organization=None, response_ms: Optional[int]=None, api_base=None, engine=None, **params)</pre><pre class=\"function-repr-contents function-repr-contents-collapsed\" style=\"\"><a class=\"filepath\" style=\"display:none\" href=\"#\">/usr/local/lib/python3.10/dist-packages/openai/openai_object.py</a>dict() -&gt; new empty dictionary\n",
              "dict(mapping) -&gt; new dictionary initialized from a mapping object&#x27;s\n",
              "    (key, value) pairs\n",
              "dict(iterable) -&gt; new dictionary initialized as if via:\n",
              "    d = {}\n",
              "    for k, v in iterable:\n",
              "        d[k] = v\n",
              "dict(**kwargs) -&gt; new dictionary initialized with the name=value pairs\n",
              "    in the keyword argument list.  For example:  dict(one=1, two=2)</pre>\n",
              "      <script>\n",
              "      if (google.colab.kernel.accessAllowed && google.colab.files && google.colab.files.view) {\n",
              "        for (const element of document.querySelectorAll('.filepath')) {\n",
              "          element.style.display = 'block'\n",
              "          element.onclick = (event) => {\n",
              "            event.preventDefault();\n",
              "            event.stopPropagation();\n",
              "            google.colab.files.view(element.textContent, 11);\n",
              "          };\n",
              "        }\n",
              "      }\n",
              "      for (const element of document.querySelectorAll('.function-repr-contents')) {\n",
              "        element.onclick = (event) => {\n",
              "          event.preventDefault();\n",
              "          event.stopPropagation();\n",
              "          element.classList.toggle('function-repr-contents-collapsed');\n",
              "        };\n",
              "      }\n",
              "      </script>\n",
              "      </div>"
            ]
          },
          "metadata": {},
          "execution_count": 8
        }
      ]
    },
    {
      "cell_type": "code",
      "source": [
        "results.choices"
      ],
      "metadata": {
        "colab": {
          "base_uri": "https://localhost:8080/"
        },
        "id": "-_7-8Q5Ugg9h",
        "outputId": "f2f02b33-6577-4af7-c675-94b211096bcf"
      },
      "execution_count": null,
      "outputs": [
        {
          "output_type": "execute_result",
          "data": {
            "text/plain": [
              "[<OpenAIObject at 0x792f39447560> JSON: {\n",
              "   \"text\": \"\\n\\nNovak Djokovic is a Serbian professional tennis player. He is currently\",\n",
              "   \"index\": 0,\n",
              "   \"logprobs\": null,\n",
              "   \"finish_reason\": \"length\"\n",
              " }]"
            ]
          },
          "metadata": {},
          "execution_count": 9
        }
      ]
    },
    {
      "cell_type": "code",
      "source": [
        "results.choices[0].text"
      ],
      "metadata": {
        "colab": {
          "base_uri": "https://localhost:8080/",
          "height": 36
        },
        "id": "ebzs_H0sgmkT",
        "outputId": "a7095b97-d5b5-49c5-a70a-67cc0b0a9938"
      },
      "execution_count": null,
      "outputs": [
        {
          "output_type": "execute_result",
          "data": {
            "text/plain": [
              "'\\n\\nNovak Djokovic is a Serbian professional tennis player. He is currently'"
            ],
            "application/vnd.google.colaboratory.intrinsic+json": {
              "type": "string"
            }
          },
          "metadata": {},
          "execution_count": 10
        }
      ]
    },
    {
      "cell_type": "code",
      "source": [
        "results=openai.Completion.create(\n",
        "    model='gpt-3.5-turbo-instruct',\n",
        "    prompt= 'Unknown facts about hitler',\n",
        "    max_tokens=100\n",
        ")\n",
        "print(results.choices[0].text)"
      ],
      "metadata": {
        "colab": {
          "base_uri": "https://localhost:8080/"
        },
        "id": "mJs9dw19gszK",
        "outputId": "131b06d5-a456-47aa-893f-8ca18713ad3c"
      },
      "execution_count": null,
      "outputs": [
        {
          "output_type": "stream",
          "name": "stdout",
          "text": [
            "\n",
            "\n",
            "1. Hitler's real name was actually Adolf Schicklgruber. He changed it to Hitler in 1876, after his father, Alois Hitler, adopted the last name of his stepfather.\n",
            "\n",
            "2. Hitler's father wanted him to become a civil servant, but Hitler was a mediocre student and failed to pass the entrance exam for a technical school. He then dropped out of high school at the age of 16.\n",
            "\n",
            "3. Hitler had a fascination with art and even applied to\n"
          ]
        }
      ]
    },
    {
      "cell_type": "code",
      "source": [
        "results=openai.Completion.create(\n",
        "    model='gpt-3.5-turbo-instruct',\n",
        "    prompt= 'Unknown facts about hitler',\n",
        "    max_tokens=100,\n",
        "    stop='hitler',\n",
        "    n=6\n",
        ")\n",
        "print(results.choices[0].text)"
      ],
      "metadata": {
        "colab": {
          "base_uri": "https://localhost:8080/"
        },
        "id": "ZgCUT8nwh1Jh",
        "outputId": "ae0fff73-e381-4ff4-b6f2-0bb7a2c2c4f5"
      },
      "execution_count": null,
      "outputs": [
        {
          "output_type": "stream",
          "name": "stdout",
          "text": [
            "\n",
            "\n",
            "1. Hitler was a vegetarian and abstained from alcohol and meat.\n",
            "\n",
            "2. He had a fascination with the occult and believed in supernatural powers.\n",
            "\n",
            "3. Hitler wanted to be an artist and applied twice to the Academy of Fine Arts Vienna, but was rejected both times.\n",
            "\n",
            "4. He was a skilled public speaker and used propaganda techniques to manipulate and control the masses.\n",
            "\n",
            "5. Hitler was addicted to drugs, particularly amphetamines, which were given to him by his personal physician.\n",
            "\n",
            "6. He\n"
          ]
        }
      ]
    },
    {
      "cell_type": "code",
      "source": [
        "results"
      ],
      "metadata": {
        "colab": {
          "base_uri": "https://localhost:8080/"
        },
        "id": "j_gTp5Iwh1TT",
        "outputId": "cc425fed-7921-4bb5-e786-2f291f9009f3"
      },
      "execution_count": null,
      "outputs": [
        {
          "output_type": "execute_result",
          "data": {
            "text/plain": [
              "<OpenAIObject text_completion id=cmpl-8xyhiwNm5UDIO9R0AuEOs04SgVm0n at 0x792f24435ee0> JSON: {\n",
              "  \"id\": \"cmpl-8xyhiwNm5UDIO9R0AuEOs04SgVm0n\",\n",
              "  \"object\": \"text_completion\",\n",
              "  \"created\": 1709305390,\n",
              "  \"model\": \"gpt-3.5-turbo-instruct\",\n",
              "  \"choices\": [\n",
              "    {\n",
              "      \"text\": \"\\n\\n1. Hitler was a vegetarian and abstained from alcohol and meat.\\n\\n2. He had a fascination with the occult and believed in supernatural powers.\\n\\n3. Hitler wanted to be an artist and applied twice to the Academy of Fine Arts Vienna, but was rejected both times.\\n\\n4. He was a skilled public speaker and used propaganda techniques to manipulate and control the masses.\\n\\n5. Hitler was addicted to drugs, particularly amphetamines, which were given to him by his personal physician.\\n\\n6. He\",\n",
              "      \"index\": 0,\n",
              "      \"logprobs\": null,\n",
              "      \"finish_reason\": \"length\"\n",
              "    },\n",
              "    {\n",
              "      \"text\": \" War\\n\\n1. Hitler was a vegetarian and abstained from consuming meat, which many believe was due to his concern for animal welfare and health.\\n\\n2. Hitler had a fear of the dentist and would often avoid dental appointments. This fear may have also contributed to his notorious bad breath.\\n\\n3. The iconic Hitler mustache was actually a style at the time and was popular among many men in Germany during the 1930s. It was called the \\\"toothbrush mustache.\\\"\\n\\n4.\",\n",
              "      \"index\": 1,\n",
              "      \"logprobs\": null,\n",
              "      \"finish_reason\": \"length\"\n",
              "    },\n",
              "    {\n",
              "      \"text\": \"\\n\\n1. He was a vegetarian: Hitler followed a strict vegetarian diet for most of his adult life, believing that meat consumption was unhealthy and unnatural.\\n\\n2. He was an artist: In his youth, Hitler aspired to be an artist and applied to the Vienna Academy of Fine Arts, but was rejected twice.\\n\\n3. He was afraid of dogs: Hitler had a fear of dogs, particularly large ones. This fear was said to stem from a childhood incident where he was attacked by a dog.\\n\\n\",\n",
              "      \"index\": 2,\n",
              "      \"logprobs\": null,\n",
              "      \"finish_reason\": \"length\"\n",
              "    },\n",
              "    {\n",
              "      \"text\": \"\\n\\n1. Hitler was a vegetarian and did not eat meat for the majority of his life.\\n2. He was an aspiring artist and applied to the Vienna Academy of Fine Arts twice but was rejected both times.\\n3. Hitler had a strong fascination with the occult and was heavily influenced by astrological beliefs.\\n4. He hated smoking and often imposed strict smoking regulations in his presence.\\n5. Hitler was an excellent public speaker and had a commanding presence on stage.\\n6. He had a deep fear of\",\n",
              "      \"index\": 3,\n",
              "      \"logprobs\": null,\n",
              "      \"finish_reason\": \"length\"\n",
              "    },\n",
              "    {\n",
              "      \"text\": \"\\n\\n1. Adolf Hitler was actually born in Austria, not Germany. He later became a German citizen when he moved to Munich in 1913. \\n\\n2. Hitler was rejected from art school twice before becoming a dictator. He had aspirations of becoming a painter and even sold some of his artwork to make a living. \\n\\n3. Hitler had a strong fascination with the occult, witchcraft, and the supernatural. He surrounded himself with astrologers and clairvoyants and even had a special\",\n",
              "      \"index\": 4,\n",
              "      \"logprobs\": null,\n",
              "      \"finish_reason\": \"length\"\n",
              "    },\n",
              "    {\n",
              "      \"text\": \"\\n\\n1. Hitler was a painter:Before he became a dictator, Hitler wanted to become an artist and even applied to the Vienna Academy of Fine Arts twice, but was rejected both times.\\n\\n2. He was a vegetarian:Hitler followed a strict vegetarian diet and believed in the ethical treatment of animals.\\n\\n3. He had a fear of the dentist:Hitler was terrified of going to the dentist and had a dentist who specialized in treating patients without inflicting any pain.\\n\\n4. Hitler had a\",\n",
              "      \"index\": 5,\n",
              "      \"logprobs\": null,\n",
              "      \"finish_reason\": \"length\"\n",
              "    }\n",
              "  ],\n",
              "  \"usage\": {\n",
              "    \"prompt_tokens\": 5,\n",
              "    \"completion_tokens\": 600,\n",
              "    \"total_tokens\": 605\n",
              "  }\n",
              "}"
            ]
          },
          "metadata": {},
          "execution_count": 13
        }
      ]
    },
    {
      "cell_type": "code",
      "source": [
        "results=openai.Completion.create(\n",
        "    model='gpt-3.5-turbo-instruct',\n",
        "    prompt= 'Unknown facts about hitler',\n",
        "    max_tokens=100,\n",
        "    echo=True\n",
        ")\n",
        "print(results.choices[0].text)"
      ],
      "metadata": {
        "colab": {
          "base_uri": "https://localhost:8080/"
        },
        "id": "GdTffycEh1Xj",
        "outputId": "4d0227a5-8df6-4045-d9dc-c4e6af8ee29b"
      },
      "execution_count": null,
      "outputs": [
        {
          "output_type": "stream",
          "name": "stdout",
          "text": [
            "Unknown facts about hitler\n",
            "\n",
            "1. Failed art career: Hitler had a strong interest in art and applied twice to the Academy of Fine Arts in Vienna, but was rejected both times.\n",
            "\n",
            "2. Drug addiction: Hitler was known to be addicted to drugs, including cocaine, opiates, and methamphetamines, which were prescribed to him by his personal physician.\n",
            "\n",
            "3. Vegetarian: Hitler followed a vegetarian diet, which was mainly driven by his concern for the ethical treatment of animals.\n",
            "\n",
            "4. Animal lover: Despite his\n"
          ]
        }
      ]
    },
    {
      "cell_type": "code",
      "source": [
        "# results=openai.Completion.create(\n",
        "#     model='gpt-3.5-turbo-instruct',\n",
        "#     prompt= 'Tell me a something about US NAVY',\n",
        "#     max_tokens=50,\n",
        "#     echo=True,\n",
        "#     temperature=1.6\n",
        "# )\n",
        "# print(results.choices[0].text)"
      ],
      "metadata": {
        "id": "dDbQTitfh1bC"
      },
      "execution_count": null,
      "outputs": []
    },
    {
      "cell_type": "code",
      "source": [
        "results=openai.Completion.create(\n",
        "    model='gpt-3.5-turbo-instruct',\n",
        "    prompt= 'Tell me a something about US NAVY',\n",
        "    max_tokens=100,\n",
        "    echo=True,\n",
        "    temperature=0\n",
        ")\n",
        "print(results.choices[0].text)"
      ],
      "metadata": {
        "colab": {
          "base_uri": "https://localhost:8080/"
        },
        "id": "JRMrbqdsqX1C",
        "outputId": "9ecbcfb3-0b1c-461b-df9a-f7c22cec9ccc"
      },
      "execution_count": null,
      "outputs": [
        {
          "output_type": "stream",
          "name": "stdout",
          "text": [
            "Tell me a something about US NAVY\n",
            "\n",
            "The United States Navy is the naval warfare service branch of the United States Armed Forces. It was established on October 13, 1775, and is currently the largest and most powerful navy in the world, with over 336,000 active duty personnel and over 290 ships. The Navy's mission is to maintain, train, and equip combat-ready naval forces capable of winning wars, deterring aggression, and maintaining freedom of the seas. The Navy's core values are honor, courage,\n"
          ]
        }
      ]
    },
    {
      "cell_type": "code",
      "source": [
        "# results=openai.Completion.create(\n",
        "#     model='gpt-3.5-turbo-instruct',\n",
        "#     prompt= 'Tell me a something about US NAVY',\n",
        "#     max_tokens=100,\n",
        "#     echo=True,\n",
        "#     top_p=1\n",
        "# )\n",
        "# print(results.choices[0].text)"
      ],
      "metadata": {
        "id": "H9Z4CehnrO6P"
      },
      "execution_count": null,
      "outputs": []
    },
    {
      "cell_type": "code",
      "source": [
        "for i in results:\n",
        "  print(i)"
      ],
      "metadata": {
        "id": "OdZ8_SMuuXsu",
        "colab": {
          "base_uri": "https://localhost:8080/"
        },
        "outputId": "258d0bef-33c2-4138-c660-b43c6abea002"
      },
      "execution_count": null,
      "outputs": [
        {
          "output_type": "stream",
          "name": "stdout",
          "text": [
            "id\n",
            "object\n",
            "created\n",
            "model\n",
            "choices\n",
            "usage\n"
          ]
        }
      ]
    },
    {
      "cell_type": "code",
      "source": [
        "import openai\n",
        "\n",
        "results = openai.Completion.create(\n",
        "    model='gpt-3.5-turbo-instruct',\n",
        "    prompt='Tell me something about US NAVY',\n",
        "    max_tokens=100,\n",
        "    temperature=0.7,  # Adjust temperature for creativity (optional)\n",
        "    top_p=0.9,        # Adjust top-p for diversity (optional)\n",
        "    stream=True,      # If applicable to your use case (check documentation)\n",
        "    #penalty=0.5,      # Adjust penalty if needed (optional, check documentation)\n",
        "    echo=True,\n",
        ")\n",
        "\n",
        "print(results.choices[0].text)\n"
      ],
      "metadata": {
        "id": "db3N6L4guo70",
        "colab": {
          "base_uri": "https://localhost:8080/",
          "height": 176
        },
        "outputId": "b3462507-ede3-4f13-b01a-2357ca063eb5"
      },
      "execution_count": null,
      "outputs": [
        {
          "output_type": "error",
          "ename": "AttributeError",
          "evalue": "'generator' object has no attribute 'choices'",
          "traceback": [
            "\u001b[0;31m---------------------------------------------------------------------------\u001b[0m",
            "\u001b[0;31mAttributeError\u001b[0m                            Traceback (most recent call last)",
            "\u001b[0;32m<ipython-input-21-00b099f777f5>\u001b[0m in \u001b[0;36m<cell line: 14>\u001b[0;34m()\u001b[0m\n\u001b[1;32m     12\u001b[0m )\n\u001b[1;32m     13\u001b[0m \u001b[0;34m\u001b[0m\u001b[0m\n\u001b[0;32m---> 14\u001b[0;31m \u001b[0mprint\u001b[0m\u001b[0;34m(\u001b[0m\u001b[0mresults\u001b[0m\u001b[0;34m.\u001b[0m\u001b[0mchoices\u001b[0m\u001b[0;34m[\u001b[0m\u001b[0;36m0\u001b[0m\u001b[0;34m]\u001b[0m\u001b[0;34m.\u001b[0m\u001b[0mtext\u001b[0m\u001b[0;34m)\u001b[0m\u001b[0;34m\u001b[0m\u001b[0;34m\u001b[0m\u001b[0m\n\u001b[0m",
            "\u001b[0;31mAttributeError\u001b[0m: 'generator' object has no attribute 'choices'"
          ]
        }
      ]
    },
    {
      "cell_type": "code",
      "source": [
        "import openai\n",
        "\n",
        "results = openai.Completion.create(\n",
        "    model='gpt-3.5-turbo-instruct',\n",
        "    prompt='SOmething about Abraham Lincoln',\n",
        "    max_tokens=100,\n",
        "    temperature=0.7,  # Adjust temperature for creativity (optional)\n",
        "\n",
        ")\n",
        "\n",
        "print(results.choices[0].text)"
      ],
      "metadata": {
        "id": "SDcdztJ3l_5a"
      },
      "execution_count": null,
      "outputs": []
    },
    {
      "cell_type": "code",
      "source": [
        "import openai\n",
        "\n",
        "results = openai.Completion.create(\n",
        "    model='gpt-3.5-turbo-instruct',\n",
        "    prompt='SOmething about Abraham Lincoln',\n",
        "    max_tokens=100,\n",
        "    temperature=0.7,  # Adjust temperature for creativity (optional)\n",
        "\n",
        ")\n",
        "\n",
        "print(results.choices[0].text)"
      ],
      "metadata": {
        "id": "ledbEtKrmCOJ"
      },
      "execution_count": null,
      "outputs": []
    },
    {
      "cell_type": "code",
      "source": [
        "import openai\n",
        "\n",
        "results = openai.Completion.create(\n",
        "    model='gpt-3.5-turbo-instruct',\n",
        "    prompt='SOmething about Abraham Lincoln',\n",
        "    max_tokens=100,\n",
        "    temperature=0.7,  # Adjust temperature for creativity (optional)\n",
        "    top_p=0.9,\n",
        ")\n",
        "\n",
        "print(results.choices[0].text)"
      ],
      "metadata": {
        "id": "gsgs25OCmVbH"
      },
      "execution_count": null,
      "outputs": []
    },
    {
      "cell_type": "code",
      "source": [
        "### PROMPT ENGINEERING ###"
      ],
      "metadata": {
        "id": "j7V5Na26m19-"
      },
      "execution_count": null,
      "outputs": []
    },
    {
      "cell_type": "code",
      "source": [
        "import openai\n",
        "\n",
        "results = openai.Completion.create(\n",
        "    model='gpt-3.5-turbo-instruct',\n",
        "    prompt='Capital city of uganda',\n",
        "    max_tokens=100,\n",
        ")\n",
        "\n",
        "\n",
        "print(results.choices[0].text)"
      ],
      "metadata": {
        "colab": {
          "base_uri": "https://localhost:8080/",
          "height": 425
        },
        "id": "6w35qR8ODZCq",
        "outputId": "81d45daa-72e9-43ee-f69e-44b2b458439f"
      },
      "execution_count": null,
      "outputs": [
        {
          "output_type": "error",
          "ename": "RateLimitError",
          "evalue": "Rate limit reached for organization org-dvCA2bh4SKYHXaorS6Pb0DDM on requests per min (RPM): Limit 3, Used 3, Requested 1. Please try again in 20s. Visit https://platform.openai.com/account/rate-limits to learn more. You can increase your rate limit by adding a payment method to your account at https://platform.openai.com/account/billing.",
          "traceback": [
            "\u001b[0;31m---------------------------------------------------------------------------\u001b[0m",
            "\u001b[0;31mRateLimitError\u001b[0m                            Traceback (most recent call last)",
            "\u001b[0;32m<ipython-input-22-24500728711f>\u001b[0m in \u001b[0;36m<cell line: 3>\u001b[0;34m()\u001b[0m\n\u001b[1;32m      1\u001b[0m \u001b[0;32mimport\u001b[0m \u001b[0mopenai\u001b[0m\u001b[0;34m\u001b[0m\u001b[0;34m\u001b[0m\u001b[0m\n\u001b[1;32m      2\u001b[0m \u001b[0;34m\u001b[0m\u001b[0m\n\u001b[0;32m----> 3\u001b[0;31m results = openai.Completion.create(\n\u001b[0m\u001b[1;32m      4\u001b[0m     \u001b[0mmodel\u001b[0m\u001b[0;34m=\u001b[0m\u001b[0;34m'gpt-3.5-turbo-instruct'\u001b[0m\u001b[0;34m,\u001b[0m\u001b[0;34m\u001b[0m\u001b[0;34m\u001b[0m\u001b[0m\n\u001b[1;32m      5\u001b[0m     \u001b[0mprompt\u001b[0m\u001b[0;34m=\u001b[0m\u001b[0;34m'Capital city of uganda'\u001b[0m\u001b[0;34m,\u001b[0m\u001b[0;34m\u001b[0m\u001b[0;34m\u001b[0m\u001b[0m\n",
            "\u001b[0;32m/usr/local/lib/python3.10/dist-packages/openai/api_resources/completion.py\u001b[0m in \u001b[0;36mcreate\u001b[0;34m(cls, *args, **kwargs)\u001b[0m\n\u001b[1;32m     23\u001b[0m         \u001b[0;32mwhile\u001b[0m \u001b[0;32mTrue\u001b[0m\u001b[0;34m:\u001b[0m\u001b[0;34m\u001b[0m\u001b[0;34m\u001b[0m\u001b[0m\n\u001b[1;32m     24\u001b[0m             \u001b[0;32mtry\u001b[0m\u001b[0;34m:\u001b[0m\u001b[0;34m\u001b[0m\u001b[0;34m\u001b[0m\u001b[0m\n\u001b[0;32m---> 25\u001b[0;31m                 \u001b[0;32mreturn\u001b[0m \u001b[0msuper\u001b[0m\u001b[0;34m(\u001b[0m\u001b[0;34m)\u001b[0m\u001b[0;34m.\u001b[0m\u001b[0mcreate\u001b[0m\u001b[0;34m(\u001b[0m\u001b[0;34m*\u001b[0m\u001b[0margs\u001b[0m\u001b[0;34m,\u001b[0m \u001b[0;34m**\u001b[0m\u001b[0mkwargs\u001b[0m\u001b[0;34m)\u001b[0m\u001b[0;34m\u001b[0m\u001b[0;34m\u001b[0m\u001b[0m\n\u001b[0m\u001b[1;32m     26\u001b[0m             \u001b[0;32mexcept\u001b[0m \u001b[0mTryAgain\u001b[0m \u001b[0;32mas\u001b[0m \u001b[0me\u001b[0m\u001b[0;34m:\u001b[0m\u001b[0;34m\u001b[0m\u001b[0;34m\u001b[0m\u001b[0m\n\u001b[1;32m     27\u001b[0m                 \u001b[0;32mif\u001b[0m \u001b[0mtimeout\u001b[0m \u001b[0;32mis\u001b[0m \u001b[0;32mnot\u001b[0m \u001b[0;32mNone\u001b[0m \u001b[0;32mand\u001b[0m \u001b[0mtime\u001b[0m\u001b[0;34m.\u001b[0m\u001b[0mtime\u001b[0m\u001b[0;34m(\u001b[0m\u001b[0;34m)\u001b[0m \u001b[0;34m>\u001b[0m \u001b[0mstart\u001b[0m \u001b[0;34m+\u001b[0m \u001b[0mtimeout\u001b[0m\u001b[0;34m:\u001b[0m\u001b[0;34m\u001b[0m\u001b[0;34m\u001b[0m\u001b[0m\n",
            "\u001b[0;32m/usr/local/lib/python3.10/dist-packages/openai/api_resources/abstract/engine_api_resource.py\u001b[0m in \u001b[0;36mcreate\u001b[0;34m(cls, api_key, api_base, api_type, request_id, api_version, organization, **params)\u001b[0m\n\u001b[1;32m    151\u001b[0m         )\n\u001b[1;32m    152\u001b[0m \u001b[0;34m\u001b[0m\u001b[0m\n\u001b[0;32m--> 153\u001b[0;31m         response, _, api_key = requestor.request(\n\u001b[0m\u001b[1;32m    154\u001b[0m             \u001b[0;34m\"post\"\u001b[0m\u001b[0;34m,\u001b[0m\u001b[0;34m\u001b[0m\u001b[0;34m\u001b[0m\u001b[0m\n\u001b[1;32m    155\u001b[0m             \u001b[0murl\u001b[0m\u001b[0;34m,\u001b[0m\u001b[0;34m\u001b[0m\u001b[0;34m\u001b[0m\u001b[0m\n",
            "\u001b[0;32m/usr/local/lib/python3.10/dist-packages/openai/api_requestor.py\u001b[0m in \u001b[0;36mrequest\u001b[0;34m(self, method, url, params, headers, files, stream, request_id, request_timeout)\u001b[0m\n\u001b[1;32m    296\u001b[0m             \u001b[0mrequest_timeout\u001b[0m\u001b[0;34m=\u001b[0m\u001b[0mrequest_timeout\u001b[0m\u001b[0;34m,\u001b[0m\u001b[0;34m\u001b[0m\u001b[0;34m\u001b[0m\u001b[0m\n\u001b[1;32m    297\u001b[0m         )\n\u001b[0;32m--> 298\u001b[0;31m         \u001b[0mresp\u001b[0m\u001b[0;34m,\u001b[0m \u001b[0mgot_stream\u001b[0m \u001b[0;34m=\u001b[0m \u001b[0mself\u001b[0m\u001b[0;34m.\u001b[0m\u001b[0m_interpret_response\u001b[0m\u001b[0;34m(\u001b[0m\u001b[0mresult\u001b[0m\u001b[0;34m,\u001b[0m \u001b[0mstream\u001b[0m\u001b[0;34m)\u001b[0m\u001b[0;34m\u001b[0m\u001b[0;34m\u001b[0m\u001b[0m\n\u001b[0m\u001b[1;32m    299\u001b[0m         \u001b[0;32mreturn\u001b[0m \u001b[0mresp\u001b[0m\u001b[0;34m,\u001b[0m \u001b[0mgot_stream\u001b[0m\u001b[0;34m,\u001b[0m \u001b[0mself\u001b[0m\u001b[0;34m.\u001b[0m\u001b[0mapi_key\u001b[0m\u001b[0;34m\u001b[0m\u001b[0;34m\u001b[0m\u001b[0m\n\u001b[1;32m    300\u001b[0m \u001b[0;34m\u001b[0m\u001b[0m\n",
            "\u001b[0;32m/usr/local/lib/python3.10/dist-packages/openai/api_requestor.py\u001b[0m in \u001b[0;36m_interpret_response\u001b[0;34m(self, result, stream)\u001b[0m\n\u001b[1;32m    698\u001b[0m         \u001b[0;32melse\u001b[0m\u001b[0;34m:\u001b[0m\u001b[0;34m\u001b[0m\u001b[0;34m\u001b[0m\u001b[0m\n\u001b[1;32m    699\u001b[0m             return (\n\u001b[0;32m--> 700\u001b[0;31m                 self._interpret_response_line(\n\u001b[0m\u001b[1;32m    701\u001b[0m                     \u001b[0mresult\u001b[0m\u001b[0;34m.\u001b[0m\u001b[0mcontent\u001b[0m\u001b[0;34m.\u001b[0m\u001b[0mdecode\u001b[0m\u001b[0;34m(\u001b[0m\u001b[0;34m\"utf-8\"\u001b[0m\u001b[0;34m)\u001b[0m\u001b[0;34m,\u001b[0m\u001b[0;34m\u001b[0m\u001b[0;34m\u001b[0m\u001b[0m\n\u001b[1;32m    702\u001b[0m                     \u001b[0mresult\u001b[0m\u001b[0;34m.\u001b[0m\u001b[0mstatus_code\u001b[0m\u001b[0;34m,\u001b[0m\u001b[0;34m\u001b[0m\u001b[0;34m\u001b[0m\u001b[0m\n",
            "\u001b[0;32m/usr/local/lib/python3.10/dist-packages/openai/api_requestor.py\u001b[0m in \u001b[0;36m_interpret_response_line\u001b[0;34m(self, rbody, rcode, rheaders, stream)\u001b[0m\n\u001b[1;32m    763\u001b[0m         \u001b[0mstream_error\u001b[0m \u001b[0;34m=\u001b[0m \u001b[0mstream\u001b[0m \u001b[0;32mand\u001b[0m \u001b[0;34m\"error\"\u001b[0m \u001b[0;32min\u001b[0m \u001b[0mresp\u001b[0m\u001b[0;34m.\u001b[0m\u001b[0mdata\u001b[0m\u001b[0;34m\u001b[0m\u001b[0;34m\u001b[0m\u001b[0m\n\u001b[1;32m    764\u001b[0m         \u001b[0;32mif\u001b[0m \u001b[0mstream_error\u001b[0m \u001b[0;32mor\u001b[0m \u001b[0;32mnot\u001b[0m \u001b[0;36m200\u001b[0m \u001b[0;34m<=\u001b[0m \u001b[0mrcode\u001b[0m \u001b[0;34m<\u001b[0m \u001b[0;36m300\u001b[0m\u001b[0;34m:\u001b[0m\u001b[0;34m\u001b[0m\u001b[0;34m\u001b[0m\u001b[0m\n\u001b[0;32m--> 765\u001b[0;31m             raise self.handle_error_response(\n\u001b[0m\u001b[1;32m    766\u001b[0m                 \u001b[0mrbody\u001b[0m\u001b[0;34m,\u001b[0m \u001b[0mrcode\u001b[0m\u001b[0;34m,\u001b[0m \u001b[0mresp\u001b[0m\u001b[0;34m.\u001b[0m\u001b[0mdata\u001b[0m\u001b[0;34m,\u001b[0m \u001b[0mrheaders\u001b[0m\u001b[0;34m,\u001b[0m \u001b[0mstream_error\u001b[0m\u001b[0;34m=\u001b[0m\u001b[0mstream_error\u001b[0m\u001b[0;34m\u001b[0m\u001b[0;34m\u001b[0m\u001b[0m\n\u001b[1;32m    767\u001b[0m             )\n",
            "\u001b[0;31mRateLimitError\u001b[0m: Rate limit reached for organization org-dvCA2bh4SKYHXaorS6Pb0DDM on requests per min (RPM): Limit 3, Used 3, Requested 1. Please try again in 20s. Visit https://platform.openai.com/account/rate-limits to learn more. You can increase your rate limit by adding a payment method to your account at https://platform.openai.com/account/billing."
          ]
        }
      ]
    },
    {
      "cell_type": "code",
      "source": [
        "### INSTRUCTION PROMPTING ###"
      ],
      "metadata": {
        "id": "oGJPtAdtkp1t"
      },
      "execution_count": null,
      "outputs": []
    },
    {
      "cell_type": "code",
      "source": [
        "import openai\n",
        "p='''\n",
        "\n",
        "Complete the below sentence\n",
        "word:Humans are?\n",
        "\n",
        "'''\n",
        "\n",
        "\n",
        "\n",
        "results = openai.Completion.create(\n",
        "    model='gpt-3.5-turbo-instruct',\n",
        "    prompt=p,\n",
        "\n",
        ")\n",
        "\n",
        "print(results.choices[0].text)"
      ],
      "metadata": {
        "id": "VCzlVCEsEa6r",
        "colab": {
          "base_uri": "https://localhost:8080/"
        },
        "outputId": "d3f93358-e8ca-496e-eb9f-e890f62f1d1e"
      },
      "execution_count": null,
      "outputs": [
        {
          "output_type": "stream",
          "name": "stdout",
          "text": [
            "\n",
            "Humans are intelligent beings capable of complex thought and emotional depth.\n"
          ]
        }
      ]
    },
    {
      "cell_type": "code",
      "source": [
        "import openai\n",
        "p='''\n",
        "\n",
        "Translate the word into hindi\n",
        "word:Peacock is the national bird?\n",
        "\n",
        "'''\n",
        "\n",
        "\n",
        "\n",
        "results = openai.Completion.create(\n",
        "    model='gpt-3.5-turbo-instruct',\n",
        "    prompt=p,\n",
        "\n",
        ")\n",
        "\n",
        "print(results.choices[0].text)"
      ],
      "metadata": {
        "colab": {
          "base_uri": "https://localhost:8080/"
        },
        "id": "zGhZ3786kGR9",
        "outputId": "bac8ee05-63c4-4de0-851e-cc9ad0808097"
      },
      "execution_count": null,
      "outputs": [
        {
          "output_type": "stream",
          "name": "stdout",
          "text": [
            "मोर राष्ट्रीय पक्षी है?\n"
          ]
        }
      ]
    },
    {
      "cell_type": "code",
      "source": [
        "### Controlling the output Format"
      ],
      "metadata": {
        "id": "EVei8v83lRsG"
      },
      "execution_count": null,
      "outputs": []
    },
    {
      "cell_type": "code",
      "source": [
        "import openai\n",
        "p='''\n",
        "\n",
        "European Countries list according to the statement?\n",
        "\n",
        "Napoleon Bonaparte was a rebellious tyrant who caused a lot of trouble for the continent of Europe. Unbeknownst to European countries, he formed alliances with them, then attacked them while they were weak . While Napoleon may have failed in many of these attempts, he still killed the people and looted their supplies, leaving the grieving families to starve and perish of hunger. Napoleon was a narcissistic and self-indulging man who crowned himself emperor of France, which led him to rise over his people who thought him a savior. When he did this, Napoleon believed he had all the power in the world, and essentially tried to take over the world, starting with Europe. Before becoming emperor, he even sold territory to the newly formed United…\n",
        "\n",
        "\n",
        "\n",
        "\n",
        "\n",
        "\n",
        "\n",
        "\n",
        "\n",
        "'''\n",
        "\n",
        "\n",
        "\n",
        "results = openai.Completion.create(\n",
        "    model='gpt-3.5-turbo-instruct',\n",
        "    prompt=p,\n",
        "\n",
        ")\n",
        "\n",
        "print(results.choices[0].text)"
      ],
      "metadata": {
        "colab": {
          "base_uri": "https://localhost:8080/"
        },
        "id": "Q2gE-yWwlTIr",
        "outputId": "b7c4b152-84c5-41be-8178-f986c2e4251c"
      },
      "execution_count": null,
      "outputs": [
        {
          "output_type": "stream",
          "name": "stdout",
          "text": [
            "1. France\n",
            "2. United Kingdom\n",
            "3. Russia\n",
            "4. Spain\n"
          ]
        }
      ]
    },
    {
      "cell_type": "code",
      "source": [
        "import openai\n",
        "p='''\n",
        "\n",
        "European Countries list according to the statement?\n",
        "countries:<csv_object_of_country_names>\n",
        "\n",
        "Napoleon Bonaparte was a rebellious tyrant who caused a lot of trouble for the continent of Europe. Unbeknownst to European countries, he formed alliances with them, then attacked them while they were weak . While Napoleon may have failed in many of these attempts, he still killed the people and looted their supplies, leaving the grieving families to starve and perish of hunger. Napoleon was a narcissistic and self-indulging man who crowned himself emperor of France, which led him to rise over his people who thought him a savior. When he did this, Napoleon believed he had all the power in the world, and essentially tried to take over the world, starting with Europe. Before becoming emperor, he even sold territory to the newly formed United…\n",
        "\n",
        "\n",
        "\n",
        "\n",
        "\n",
        "\n",
        "\n",
        "\n",
        "\n",
        "'''\n",
        "\n",
        "\n",
        "\n",
        "results = openai.Completion.create(\n",
        "    model='gpt-3.5-turbo-instruct',\n",
        "    max_tokens=75,\n",
        "    prompt=p,\n",
        "\n",
        ")\n",
        "\n",
        "print(results.choices[0].text)"
      ],
      "metadata": {
        "colab": {
          "base_uri": "https://localhost:8080/"
        },
        "id": "NLK5oWoelTNQ",
        "outputId": "2b610338-6478-4ce1-9e1d-f05c7c2dd45e"
      },
      "execution_count": null,
      "outputs": [
        {
          "output_type": "stream",
          "name": "stdout",
          "text": [
            "\n",
            "1. France\n",
            "2. United Kingdom\n",
            "3. Russia\n",
            "4. Prussia (now part of Germany)\n",
            "5. Austria\n",
            "6. Spain\n",
            "7. Netherlands\n",
            "8. Italy\n",
            "9. Switzerland\n",
            "10. Belgium\n",
            "11. Sweden\n",
            "12. Denmark \n",
            "13. Portugal \n",
            "14. Norway \n",
            "15. Greece \n",
            "16. Poland \n",
            "17. Ireland\n"
          ]
        }
      ]
    },
    {
      "cell_type": "code",
      "source": [
        "# Summarize the text in 100 words"
      ],
      "metadata": {
        "id": "f-_v41n1lTRD"
      },
      "execution_count": null,
      "outputs": []
    },
    {
      "cell_type": "code",
      "source": [
        "import openai\n",
        "p='''\n",
        "\n",
        "Can you me it as a 40 word essay\n",
        "\n",
        "The Russian Revolution, a seismic shift in the course of history, unfolded against the backdrop of a nation marred by economic inequities, political instability, and simmering social unrest. The roots of discontent were deeply embedded in the widespread poverty among peasants and the working class, exacerbated by economic disparities and exploitation. The autocratic rule of Tsar Nicholas II, coupled with the absence of political representation, fueled a growing dissatisfaction that climaxed with the tumultuous events of the early 20th century\n",
        "The catalysts for change emerged in the form of key events, notably the infamous Bloody Sunday in 1905, which marked a turning point as a peaceful protest was violently suppressed, setting the stage for broader unrest. The February Revolution of 1917 saw the abdication of Tsar Nicholas II and the rise of the Provisional Government, only to be overthrown by the more radical Bolsheviks in the October Revolution later that same year. Vladimir Lenin's leadership played a pivotal role in navigating the Bolsheviks to power, fundamentally altering the course of Russian history.\n",
        "\n",
        "\n",
        "\n",
        "\n",
        "\n",
        "\n",
        "\n",
        "\n",
        "'''\n",
        "\n",
        "\n",
        "\n",
        "results = openai.Completion.create(\n",
        "    model='gpt-3.5-turbo-instruct',\n",
        "    max_tokens=75,\n",
        "    prompt=p,\n",
        "    echo=True\n",
        "\n",
        ")\n",
        "\n",
        "print(results.choices[0].text)"
      ],
      "metadata": {
        "colab": {
          "base_uri": "https://localhost:8080/"
        },
        "id": "PpDcR74rlTUS",
        "outputId": "718d1c5a-e371-45b8-bb1e-eff8fcd3d673"
      },
      "execution_count": null,
      "outputs": [
        {
          "output_type": "stream",
          "name": "stdout",
          "text": [
            "\n",
            "\n",
            "Can you me it as a 40 word essay\n",
            "\n",
            "The Russian Revolution, a seismic shift in the course of history, unfolded against the backdrop of a nation marred by economic inequities, political instability, and simmering social unrest. The roots of discontent were deeply embedded in the widespread poverty among peasants and the working class, exacerbated by economic disparities and exploitation. The autocratic rule of Tsar Nicholas II, coupled with the absence of political representation, fueled a growing dissatisfaction that climaxed with the tumultuous events of the early 20th century\n",
            "The catalysts for change emerged in the form of key events, notably the infamous Bloody Sunday in 1905, which marked a turning point as a peaceful protest was violently suppressed, setting the stage for broader unrest. The February Revolution of 1917 saw the abdication of Tsar Nicholas II and the rise of the Provisional Government, only to be overthrown by the more radical Bolsheviks in the October Revolution later that same year. Vladimir Lenin's leadership played a pivotal role in navigating the Bolsheviks to power, fundamentally altering the course of Russian history.\n",
            "\n",
            "\n",
            "\n",
            "\n",
            "\n",
            "\n",
            "\n",
            "\n",
            "In short, the Russian Revolution was a pivotal moment in history driven by economic disparities, political oppression, and social unrest. Bloody Sunday, the February and October Revolutions, and Lenin's leadership all played crucial roles in toppling the autocratic Tsar and ushering in a new era of Bolshevik rule that would have far-reaching effects on the nation and the world.\n"
          ]
        }
      ]
    },
    {
      "cell_type": "code",
      "source": [
        "import openai\n",
        "p='''\n",
        "\n",
        "How many words are there in essay?\n",
        "\n",
        "The Russian Revolution, a seismic shift in the course of history, unfolded against the backdrop of a nation marred by economic inequities, political instability, and simmering social unrest. The roots of discontent were deeply embedded in the widespread poverty among peasants and the working class, exacerbated by economic disparities and exploitation. The autocratic rule of Tsar Nicholas II, coupled with the absence of political representation, fueled a growing dissatisfaction that climaxed with the tumultuous events of the early 20th century\n",
        "The catalysts for change emerged in the form of key events, notably the infamous Bloody Sunday in 1905, which marked a turning point as a peaceful protest was violently suppressed, setting the stage for broader unrest. The February Revolution of 1917 saw the abdication of Tsar Nicholas II and the rise of the Provisional Government, only to be overthrown by the more radical Bolsheviks in the October Revolution later that same year. Vladimir Lenin's leadership played a pivotal role in navigating the Bolsheviks to power, fundamentally altering the course of Russian history.\n",
        "\n",
        "\n",
        "\n",
        "\n",
        "\n",
        "\n",
        "\n",
        "\n",
        "'''\n",
        "\n",
        "\n",
        "\n",
        "results = openai.Completion.create(\n",
        "    model='gpt-3.5-turbo-instruct',\n",
        "    max_tokens=75,\n",
        "    prompt=p,\n",
        "    echo=True\n",
        "\n",
        ")\n",
        "\n",
        "print(results.choices[0].text)"
      ],
      "metadata": {
        "colab": {
          "base_uri": "https://localhost:8080/"
        },
        "id": "C1n8HSuilTaO",
        "outputId": "2b03076c-29ea-45e4-bd41-43adc52a7ffd"
      },
      "execution_count": null,
      "outputs": [
        {
          "output_type": "stream",
          "name": "stdout",
          "text": [
            "\n",
            "\n",
            "How many words are there in essay?\n",
            "\n",
            "The Russian Revolution, a seismic shift in the course of history, unfolded against the backdrop of a nation marred by economic inequities, political instability, and simmering social unrest. The roots of discontent were deeply embedded in the widespread poverty among peasants and the working class, exacerbated by economic disparities and exploitation. The autocratic rule of Tsar Nicholas II, coupled with the absence of political representation, fueled a growing dissatisfaction that climaxed with the tumultuous events of the early 20th century\n",
            "The catalysts for change emerged in the form of key events, notably the infamous Bloody Sunday in 1905, which marked a turning point as a peaceful protest was violently suppressed, setting the stage for broader unrest. The February Revolution of 1917 saw the abdication of Tsar Nicholas II and the rise of the Provisional Government, only to be overthrown by the more radical Bolsheviks in the October Revolution later that same year. Vladimir Lenin's leadership played a pivotal role in navigating the Bolsheviks to power, fundamentally altering the course of Russian history.\n",
            "\n",
            "\n",
            "\n",
            "\n",
            "\n",
            "\n",
            "\n",
            "\n",
            "\n",
            "There are 101 words in this essay.\n"
          ]
        }
      ]
    },
    {
      "cell_type": "code",
      "source": [
        "import openai\n",
        "p='''\n",
        "\n",
        "Extract number from the following content:\n",
        "\n",
        "The Russian Revolution, a seismic shift in the course of history, unfolded against the backdrop of a nation marred by economic inequities, political instability, and simmering social unrest. The roots of discontent were deeply embedded in the widespread poverty among peasants and the working class, exacerbated by economic disparities and exploitation. The autocratic rule of Tsar Nicholas II, coupled with the absence of political representation, fueled a growing dissatisfaction that climaxed with the tumultuous events of the early 20th century\n",
        "The catalysts for change emerged in the form of key events, notably the infamous Bloody Sunday in 1905, which marked a turning point as a peaceful protest was violently suppressed, setting the stage for broader unrest. The February Revolution of 1917 saw the abdication of Tsar Nicholas II and the rise of the Provisional Government, only to be overthrown by the more radical Bolsheviks in the October Revolution later that same year. Vladimir Lenin's leadership played a pivotal role in navigating the Bolsheviks to power, fundamentally altering the course of Russian history.\n",
        "\n",
        "\n",
        "\n",
        "\n",
        "\n",
        "\n",
        "\n",
        "\n",
        "'''\n",
        "\n",
        "\n",
        "\n",
        "results = openai.Completion.create(\n",
        "    model='gpt-3.5-turbo-instruct',\n",
        "    max_tokens=75,\n",
        "    prompt=p,\n",
        "    echo=True\n",
        "\n",
        ")\n",
        "\n",
        "print(results.choices[0].text)"
      ],
      "metadata": {
        "colab": {
          "base_uri": "https://localhost:8080/"
        },
        "id": "zNWDjBSKlTik",
        "outputId": "3f3d1f86-0692-4795-c564-97325551411c"
      },
      "execution_count": null,
      "outputs": [
        {
          "output_type": "stream",
          "name": "stdout",
          "text": [
            "\n",
            "\n",
            "Extract number from the following content:\n",
            "\n",
            "The Russian Revolution, a seismic shift in the course of history, unfolded against the backdrop of a nation marred by economic inequities, political instability, and simmering social unrest. The roots of discontent were deeply embedded in the widespread poverty among peasants and the working class, exacerbated by economic disparities and exploitation. The autocratic rule of Tsar Nicholas II, coupled with the absence of political representation, fueled a growing dissatisfaction that climaxed with the tumultuous events of the early 20th century\n",
            "The catalysts for change emerged in the form of key events, notably the infamous Bloody Sunday in 1905, which marked a turning point as a peaceful protest was violently suppressed, setting the stage for broader unrest. The February Revolution of 1917 saw the abdication of Tsar Nicholas II and the rise of the Provisional Government, only to be overthrown by the more radical Bolsheviks in the October Revolution later that same year. Vladimir Lenin's leadership played a pivotal role in navigating the Bolsheviks to power, fundamentally altering the course of Russian history.\n",
            "\n",
            "\n",
            "\n",
            "\n",
            "\n",
            "\n",
            "\n",
            "\n",
            "1905, 1917\n",
            "\n"
          ]
        }
      ]
    },
    {
      "cell_type": "code",
      "source": [
        "## SENTIMENT ANALYSIS"
      ],
      "metadata": {
        "id": "ZOLc76bIlTlm"
      },
      "execution_count": null,
      "outputs": []
    },
    {
      "cell_type": "code",
      "source": [
        "import openai\n",
        "p='''\n",
        "\n",
        "Classify the following content as positive/negative/neutral:\n",
        "\n",
        "In the quiet town of Raven's Hollow, nestled between dense woods and rolling hills, an unsettling hush descended as the moon cast an eerie glow over the cobblestone streets. Detective Alex Turner, a seasoned investigator haunted by his own shadows, was about to face a night that would unravel the tranquility of Raven's Hollow. The clock struck midnight when the first scream pierced the stillness. It echoed through the deserted alleyways, sending shivers down the spines of those few who dared to peek through their curtains. A mysterious figure, cloaked in shadows, moved with calculated precision through the night, leaving a trail of fear in its wake. Detective Turner, awakened by the chilling wail, found himself drawn to the crime scene, where the lifeless body of a young woman lay in the pale moonlight. Her eyes held a silent plea for answers that only the detective could provide. The town, once a haven of peace, now harbored a malevolent secret that lurked in its darkest corners. As Turner delved into the investigation, he uncovered a series of murders, each more cryptic than the last. The victims seemed connected by a sinister thread, their deaths foretelling a macabre tale that transcended the ordinary. Clues, like elusive whispers, led the detective deeper into the heart of the mystery, revealing a hidden world of conspiracies and vendettas.\n",
        "\n",
        "\n",
        "\n",
        "\n",
        "'''\n",
        "\n",
        "\n",
        "\n",
        "results = openai.Completion.create(\n",
        "    model='gpt-3.5-turbo-instruct',\n",
        "    max_tokens=75,\n",
        "    prompt=p,\n",
        "    echo=True\n",
        "\n",
        ")\n",
        "\n",
        "print(results.choices[0].text)"
      ],
      "metadata": {
        "colab": {
          "base_uri": "https://localhost:8080/"
        },
        "id": "XjJyZS3ClTra",
        "outputId": "c106d3a2-3d62-4c8d-cd7a-69e0de4d45ec"
      },
      "execution_count": null,
      "outputs": [
        {
          "output_type": "stream",
          "name": "stdout",
          "text": [
            "\n",
            "\n",
            "Classify the following content as positive/negative/neutral:\n",
            "\n",
            "In the quiet town of Raven's Hollow, nestled between dense woods and rolling hills, an unsettling hush descended as the moon cast an eerie glow over the cobblestone streets. Detective Alex Turner, a seasoned investigator haunted by his own shadows, was about to face a night that would unravel the tranquility of Raven's Hollow. The clock struck midnight when the first scream pierced the stillness. It echoed through the deserted alleyways, sending shivers down the spines of those few who dared to peek through their curtains. A mysterious figure, cloaked in shadows, moved with calculated precision through the night, leaving a trail of fear in its wake. Detective Turner, awakened by the chilling wail, found himself drawn to the crime scene, where the lifeless body of a young woman lay in the pale moonlight. Her eyes held a silent plea for answers that only the detective could provide. The town, once a haven of peace, now harbored a malevolent secret that lurked in its darkest corners. As Turner delved into the investigation, he uncovered a series of murders, each more cryptic than the last. The victims seemed connected by a sinister thread, their deaths foretelling a macabre tale that transcended the ordinary. Clues, like elusive whispers, led the detective deeper into the heart of the mystery, revealing a hidden world of conspiracies and vendettas.\n",
            "\n",
            "\n",
            "\n",
            "\n",
            " Negative\n"
          ]
        }
      ]
    },
    {
      "cell_type": "code",
      "source": [
        "# zero  Shot Prompting\n"
      ],
      "metadata": {
        "id": "KusxzY-3lTuW"
      },
      "execution_count": null,
      "outputs": []
    },
    {
      "cell_type": "code",
      "source": [
        "import openai\n",
        "p='''\n",
        "\n",
        "GIve 5 Yandamuri books\n",
        "'''\n",
        "\n",
        "\n",
        "\n",
        "results = openai.Completion.create(\n",
        "    model='gpt-3.5-turbo-instruct',\n",
        "    max_tokens=75,\n",
        "    prompt=p,\n",
        "    echo=True\n",
        "\n",
        ")\n",
        "\n",
        "print(results.choices[0].text)"
      ],
      "metadata": {
        "colab": {
          "base_uri": "https://localhost:8080/"
        },
        "id": "QTFh3pGVlTxr",
        "outputId": "b5ed80e8-46d2-4c43-f113-23ba2d817e61"
      },
      "execution_count": null,
      "outputs": [
        {
          "output_type": "stream",
          "name": "stdout",
          "text": [
            "\n",
            "\n",
            "GIve 5 Yandamuri books\n",
            "\n",
            "1. \"The 7th Sense\"\n",
            "2. \"Dabbu to the Power of Dabbu\"\n",
            "3. \"S・R・I: Story of Rama and I\"\n",
            "4. \"Vennello Aadapilla\"\n",
            "5. \"Rachchabanda\"\n"
          ]
        }
      ]
    },
    {
      "cell_type": "code",
      "source": [
        "# One Shot Prompting"
      ],
      "metadata": {
        "id": "bTgdMHa9DghO"
      },
      "execution_count": null,
      "outputs": []
    },
    {
      "cell_type": "code",
      "source": [
        "import openai\n",
        "p='''\n",
        "\n",
        "ENGLISH: \"I LOVE YOU\"\n",
        "GERMAN: \"Ich liebe dich\"\n",
        "\n",
        "Translae this sentence from english to german\n",
        "\n",
        "English: 'I HAte You'\n",
        "'''\n",
        "\n",
        "\n",
        "\n",
        "results = openai.Completion.create(\n",
        "    model='gpt-3.5-turbo-instruct',\n",
        "    max_tokens=75,\n",
        "    prompt=p,\n",
        "    echo=True\n",
        "\n",
        ")\n",
        "\n",
        "print(results.choices[0].text)"
      ],
      "metadata": {
        "colab": {
          "base_uri": "https://localhost:8080/"
        },
        "id": "U4CiLoQLDkVj",
        "outputId": "b3aabbe1-5739-4621-b28a-55754e21ddbb"
      },
      "execution_count": null,
      "outputs": [
        {
          "output_type": "stream",
          "name": "stdout",
          "text": [
            "\n",
            "\n",
            "ENGLISH: \"I LOVE YOU\"\n",
            "GERMAN: \"Ich liebe dich\"\n",
            "\n",
            "Translae this sentence from english to german\n",
            "\n",
            "English: 'I HAte You'\n",
            "\n",
            "German: \"Ich hasse dich\"\n"
          ]
        }
      ]
    }
  ]
}